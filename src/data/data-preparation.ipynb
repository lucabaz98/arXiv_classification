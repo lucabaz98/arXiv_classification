{
 "cells": [
  {
   "attachments": {},
   "cell_type": "markdown",
   "metadata": {},
   "source": [
    "### Data preparation"
   ]
  },
  {
   "cell_type": "markdown",
   "metadata": {},
   "source": [
    "In this part of the project, we have made a **first processing on inital ArXiv data**, with the aim of achieving more structured information needed for our purposes.\n",
    "\n",
    "The steps have been these:\n",
    "- We kept only the **category groups** (already explained in the data retrieving) related to the scientific articles and we also associated a **label** (progressive number) to each one of them, in detail:\n",
    "    - Computer Science (0)\n",
    "    - Economy (1)\n",
    "    - Electrical Engineering and Systems Science (2)\n",
    "    - Mathematics (3)\n",
    "    - Physics (4)\n",
    "    - Quantitative Biology (5)\n",
    "    - Quantitative Finance (6)\n",
    "    - Statistics (7)\n",
    "    \n",
    "    These will be our **target variable** to identify using deep learning algorithms.\n",
    "\n",
    "- Furthermore, we combined the **title, abstract and name of the authors** in a single text, which will be manipulated and analyzed during the project to solve our text classification task."
   ]
  },
  {
   "cell_type": "code",
   "execution_count": 1,
   "metadata": {},
   "outputs": [],
   "source": [
    "import pandas as pd\n",
    "import numpy as np"
   ]
  },
  {
   "cell_type": "code",
   "execution_count": 2,
   "metadata": {},
   "outputs": [],
   "source": [
    "arxiv_data = pd.read_csv('../../data/arxiv-dataset.csv')"
   ]
  },
  {
   "cell_type": "code",
   "execution_count": 3,
   "metadata": {},
   "outputs": [],
   "source": [
    "category_L1 = pd.DataFrame({\n",
    "    'category': arxiv_data['categoryGroup'].unique(),\n",
    "    'label': np.arange(0,len(arxiv_data['categoryGroup'].unique()))\n",
    "})\n",
    "\n",
    "category_L1.to_csv('../../data/cat1-label.csv', encoding = 'utf-8', index = False)"
   ]
  },
  {
   "cell_type": "code",
   "execution_count": 4,
   "metadata": {},
   "outputs": [],
   "source": [
    "processed_data_catL1 = pd.merge(arxiv_data, category_L1, left_on = 'categoryGroup', right_on = 'category', how = 'left')\n",
    "\n",
    "# Merge textual data (title, authors and abstract)\n",
    "processed_data_catL1['text'] = processed_data_catL1['title'].str.cat(processed_data_catL1['authors'], sep = ' ').str.cat(processed_data_catL1['abstract'], sep = ' ')\n",
    "\n",
    "processed_data_catL1 = processed_data_catL1[['text', 'label']] \n",
    "\n",
    "processed_data_catL1.to_csv('../../data/arxiv-dataset-cat1.csv', encoding = 'utf-8', index = False)"
   ]
  }
 ],
 "metadata": {
  "kernelspec": {
   "display_name": "base",
   "language": "python",
   "name": "python3"
  },
  "language_info": {
   "codemirror_mode": {
    "name": "ipython",
    "version": 3
   },
   "file_extension": ".py",
   "mimetype": "text/x-python",
   "name": "python",
   "nbconvert_exporter": "python",
   "pygments_lexer": "ipython3",
   "version": "3.9.12"
  },
  "orig_nbformat": 4
 },
 "nbformat": 4,
 "nbformat_minor": 2
}
