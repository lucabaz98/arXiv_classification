{
  "cells": [
    {
      "cell_type": "markdown",
      "metadata": {},
      "source": [
        "### Explorative Data Analysis"
      ]
    },
    {
      "cell_type": "code",
      "execution_count": null,
      "metadata": {
        "id": "Vj870QTS4uG8"
      },
      "outputs": [],
      "source": [
        "import pandas as pd\n",
        "import numpy as np\n",
        "import matplotlib.pyplot as plt\n",
        "from wordcloud import WordCloud\n",
        "\n",
        "data_folder = '../../data/'"
      ]
    },
    {
      "cell_type": "markdown",
      "metadata": {},
      "source": [
        "Reading and merge training and test set processed"
      ]
    },
    {
      "cell_type": "code",
      "execution_count": null,
      "metadata": {},
      "outputs": [],
      "source": [
        "df1 = pd.read_csv(data_folder + 'processed/train-set-cat1-processed.csv')\n",
        "df2 = pd.read_csv(data_folder + 'processed/test-set-cat1-processed.csv')\n",
        "df = pd.concat([df1, df2], ignore_index=True)"
      ]
    },
    {
      "cell_type": "markdown",
      "metadata": {},
      "source": [
        "Counting the number of articles for each label (topic/category of the article)"
      ]
    },
    {
      "cell_type": "code",
      "execution_count": null,
      "metadata": {},
      "outputs": [],
      "source": [
        "df.groupby(['label']).size().reset_index(name='counts')"
      ]
    },
    {
      "cell_type": "code",
      "execution_count": null,
      "metadata": {},
      "outputs": [],
      "source": [
        "print(f\"There are {len(df)} ArXiv articles.\")\n",
        "print(f\"There are {len(df['label'].unique())} categories in the dataset.\")"
      ]
    },
    {
      "attachments": {},
      "cell_type": "markdown",
      "metadata": {},
      "source": [
        "Bi-grams analysis: most frequently used bi-grams"
      ]
    },
    {
      "cell_type": "code",
      "execution_count": null,
      "metadata": {},
      "outputs": [],
      "source": [
        "from sklearn.feature_extraction.text import CountVectorizer\n",
        "\n",
        "word_vectorizer = CountVectorizer(ngram_range=(2,2), analyzer='word')\n",
        "sparse_matrix = word_vectorizer.fit_transform(df['text'])\n",
        "frequencies = sparse_matrix.sum(axis=0).T\n",
        "df_bigrams = pd.DataFrame(frequencies, index=word_vectorizer.get_feature_names_out(), columns=['frequency'])\n",
        "df_bigrams.sort_values(by='frequency', ascending=False).head(10)"
      ]
    },
    {
      "attachments": {},
      "cell_type": "markdown",
      "metadata": {},
      "source": [
        "Tri-grams analysis: most frequently used tri-grams"
      ]
    },
    {
      "cell_type": "code",
      "execution_count": null,
      "metadata": {},
      "outputs": [],
      "source": [
        "from sklearn.feature_extraction.text import CountVectorizer\n",
        "word_vectorizer = CountVectorizer(ngram_range=(3,3), analyzer='word')\n",
        "sparse_matrix = word_vectorizer.fit_transform(df['text'])\n",
        "frequencies = sparse_matrix.sum(axis=0).T\n",
        "df_trigrams = pd.DataFrame(frequencies, index=word_vectorizer.get_feature_names_out(), columns=['frequency'])\n",
        "df_trigrams.sort_values(by='frequency', ascending=False).head(10)"
      ]
    },
    {
      "attachments": {},
      "cell_type": "markdown",
      "metadata": {},
      "source": [
        "TF-IDF analysis with bi-grams"
      ]
    },
    {
      "cell_type": "code",
      "execution_count": null,
      "metadata": {},
      "outputs": [],
      "source": [
        "from sklearn.feature_extraction.text import TfidfVectorizer\n",
        "word_vectorizer = TfidfVectorizer(ngram_range=(2,2), analyzer='word')\n",
        "sparse_matrix = word_vectorizer.fit_transform(df['text'])\n",
        "tfidf = sparse_matrix.sum(axis=0).T\n",
        "df_trigrams_tfidf = pd.DataFrame(tfidf, index=word_vectorizer.get_feature_names_out(), columns=['tfidf'])\n",
        "df_trigrams_tfidf.sort_values(by='tfidf', ascending=False).head(10)"
      ]
    },
    {
      "attachments": {},
      "cell_type": "markdown",
      "metadata": {},
      "source": [
        "Number of articles for each category"
      ]
    },
    {
      "cell_type": "code",
      "execution_count": null,
      "metadata": {},
      "outputs": [],
      "source": [
        "df.groupby(['label']).size().reset_index(name='counts').plot.bar(x='label',\n",
        "                                                                 y='counts',\n",
        "                                                                 figsize=(5,4),\n",
        "                                                                 color=plt.cm.Paired(np.arange(len(df))),\n",
        "                                                                 legend=False,\n",
        "                                                                 ylabel = 'Number of articles',\n",
        "                                                                 rot=0\n",
        "                                                                 )"
      ]
    },
    {
      "cell_type": "markdown",
      "metadata": {},
      "source": [
        "Word cloud with most frequency words"
      ]
    },
    {
      "cell_type": "code",
      "execution_count": null,
      "metadata": {},
      "outputs": [],
      "source": [
        "wc_prova  = WordCloud().generate(' '.join(df['text']))\n",
        "plt.imshow(wc_prova)\n",
        "plt.axis(\"off\")\n",
        "plt.show()"
      ]
    },
    {
      "attachments": {},
      "cell_type": "markdown",
      "metadata": {},
      "source": [
        "Number of words per category analysis"
      ]
    },
    {
      "cell_type": "code",
      "execution_count": null,
      "metadata": {},
      "outputs": [],
      "source": [
        "df_copy = df.copy()\n",
        "\n",
        "# Compute the number of words for each article\n",
        "df_copy['word_counts'] = df_copy['text'].str.count(' ') + 1"
      ]
    },
    {
      "cell_type": "code",
      "execution_count": null,
      "metadata": {},
      "outputs": [],
      "source": [
        "df_word_amount_label = df_copy.groupby(['label'])['word_counts'].sum().reset_index(name='counts')"
      ]
    },
    {
      "cell_type": "code",
      "execution_count": null,
      "metadata": {},
      "outputs": [],
      "source": [
        "fig = plt.figure(figsize = (5, 4))\n",
        "plt.bar(df_word_amount_label['label'],\n",
        "        df_word_amount_label['counts'], \n",
        "        color = plt.cm.Paired(np.arange(len(df_word_amount_label))))\n",
        "plt.ticklabel_format(style='plain')\n",
        "plt.show()"
      ]
    },
    {
      "cell_type": "markdown",
      "metadata": {},
      "source": [
        "Average number of words for each abstract"
      ]
    },
    {
      "cell_type": "code",
      "execution_count": 13,
      "metadata": {},
      "outputs": [
        {
          "data": {
            "text/html": [
              "<div>\n",
              "<style scoped>\n",
              "    .dataframe tbody tr th:only-of-type {\n",
              "        vertical-align: middle;\n",
              "    }\n",
              "\n",
              "    .dataframe tbody tr th {\n",
              "        vertical-align: top;\n",
              "    }\n",
              "\n",
              "    .dataframe thead th {\n",
              "        text-align: right;\n",
              "    }\n",
              "</style>\n",
              "<table border=\"1\" class=\"dataframe\">\n",
              "  <thead>\n",
              "    <tr style=\"text-align: right;\">\n",
              "      <th></th>\n",
              "      <th>label</th>\n",
              "      <th>mean</th>\n",
              "    </tr>\n",
              "  </thead>\n",
              "  <tbody>\n",
              "    <tr>\n",
              "      <th>0</th>\n",
              "      <td>0</td>\n",
              "      <td>55.621524</td>\n",
              "    </tr>\n",
              "    <tr>\n",
              "      <th>1</th>\n",
              "      <td>1</td>\n",
              "      <td>64.796000</td>\n",
              "    </tr>\n",
              "    <tr>\n",
              "      <th>2</th>\n",
              "      <td>2</td>\n",
              "      <td>67.351000</td>\n",
              "    </tr>\n",
              "    <tr>\n",
              "      <th>3</th>\n",
              "      <td>3</td>\n",
              "      <td>24.261437</td>\n",
              "    </tr>\n",
              "    <tr>\n",
              "      <th>4</th>\n",
              "      <td>4</td>\n",
              "      <td>42.034980</td>\n",
              "    </tr>\n",
              "    <tr>\n",
              "      <th>5</th>\n",
              "      <td>5</td>\n",
              "      <td>74.800400</td>\n",
              "    </tr>\n",
              "    <tr>\n",
              "      <th>6</th>\n",
              "      <td>6</td>\n",
              "      <td>65.750444</td>\n",
              "    </tr>\n",
              "    <tr>\n",
              "      <th>7</th>\n",
              "      <td>7</td>\n",
              "      <td>51.344333</td>\n",
              "    </tr>\n",
              "  </tbody>\n",
              "</table>\n",
              "</div>"
            ],
            "text/plain": [
              "   label       mean\n",
              "0      0  55.621524\n",
              "1      1  64.796000\n",
              "2      2  67.351000\n",
              "3      3  24.261437\n",
              "4      4  42.034980\n",
              "5      5  74.800400\n",
              "6      6  65.750444\n",
              "7      7  51.344333"
            ]
          },
          "execution_count": 13,
          "metadata": {},
          "output_type": "execute_result"
        }
      ],
      "source": [
        "df_copy.groupby(['label'])['word_counts'].mean().reset_index(name='mean')"
      ]
    }
  ],
  "metadata": {
    "colab": {
      "authorship_tag": "ABX9TyMavMN4TJKrlMr2QHyr16if",
      "mount_file_id": "1jYoNwppMQupVKqR-xro4EFbRs6IMnxJe",
      "provenance": [],
      "toc_visible": true
    },
    "kernelspec": {
      "display_name": "Python 3",
      "name": "python3"
    },
    "language_info": {
      "codemirror_mode": {
        "name": "ipython",
        "version": 3
      },
      "file_extension": ".py",
      "mimetype": "text/x-python",
      "name": "python",
      "nbconvert_exporter": "python",
      "pygments_lexer": "ipython3",
      "version": "3.9.12"
    }
  },
  "nbformat": 4,
  "nbformat_minor": 0
}
