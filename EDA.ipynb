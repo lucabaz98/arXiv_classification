{
  "cells": [
    {
      "cell_type": "code",
      "execution_count": 90,
      "metadata": {
        "id": "Vj870QTS4uG8"
      },
      "outputs": [],
      "source": [
        "import pandas as pd\n",
        "import numpy as np\n",
        "import matplotlib.pyplot as plt\n",
        "\n",
        "data_folder = 'data/'"
      ]
    },
    {
      "cell_type": "code",
      "execution_count": 91,
      "metadata": {},
      "outputs": [],
      "source": [
        "df = pd.read_csv(data_folder + 'arxiv-dataset-processed-L1.csv',index_col=0)\n",
        "categories = pd.read_csv(data_folder + 'categoryL1-label.csv',index_col=0)"
      ]
    },
    {
      "cell_type": "code",
      "execution_count": 131,
      "metadata": {},
      "outputs": [
        {
          "name": "stdout",
          "output_type": "stream",
          "text": [
            "There are 77208 rows in the dataset.\n",
            "There are 8 categories in the dataset.\n"
          ]
        }
      ],
      "source": [
        "print(f\"There are {len(df)} rows in the dataset.\")\n",
        "print(f\"There are {len(categories)} categories in the dataset.\")"
      ]
    },
    {
      "cell_type": "code",
      "execution_count": 146,
      "metadata": {},
      "outputs": [
        {
          "name": "stdout",
          "output_type": "stream",
          "text": [
            "There are 1038 duplicate rows.\n",
            "There are 2698 duplicate texts.\n"
          ]
        }
      ],
      "source": [
        "print(f\"There are {sum(df.duplicated())} duplicate rows.\")\n",
        "print(f\"There are {sum(df.duplicated(subset='text'))} duplicate texts.\")"
      ]
    },
    {
      "cell_type": "code",
      "execution_count": 155,
      "metadata": {},
      "outputs": [
        {
          "name": "stdout",
          "output_type": "stream",
          "text": [
            "17\n"
          ]
        }
      ],
      "source": [
        "# There are some terms with occurrence as low as 1.\n",
        "print(sum(df[\"text\"].str.split().apply(len).value_counts() == 1))"
      ]
    },
    {
      "cell_type": "code",
      "execution_count": 151,
      "metadata": {},
      "outputs": [
        {
          "name": "stdout",
          "output_type": "stream",
          "text": [
            "74510\n"
          ]
        }
      ],
      "source": [
        "# How many unique terms?\n",
        "print(df[\"text\"].str.split().nunique())"
      ]
    },
    {
      "cell_type": "code",
      "execution_count": 161,
      "metadata": {},
      "outputs": [],
      "source": [
        "from sklearn.feature_extraction.text import TfidfVectorizer"
      ]
    },
    {
      "cell_type": "code",
      "execution_count": 185,
      "metadata": {},
      "outputs": [],
      "source": [
        "v = TfidfVectorizer(min_df=1, max_df=.5,ngram_range=(1,2))\n",
        "x = v.fit_transform(df['text'])"
      ]
    },
    {
      "cell_type": "code",
      "execution_count": 186,
      "metadata": {},
      "outputs": [],
      "source": [
        "occ = np.asarray(x.sum(axis=0)).ravel().tolist()"
      ]
    },
    {
      "cell_type": "code",
      "execution_count": 175,
      "metadata": {},
      "outputs": [
        {
          "ename": "AttributeError",
          "evalue": "'numpy.ndarray' object has no attribute 'head'",
          "output_type": "error",
          "traceback": [
            "\u001b[1;31m---------------------------------------------------------------------------\u001b[0m",
            "\u001b[1;31mAttributeError\u001b[0m                            Traceback (most recent call last)",
            "Cell \u001b[1;32mIn[175], line 1\u001b[0m\n\u001b[1;32m----> 1\u001b[0m x\u001b[39m.\u001b[39;49mhead()\n",
            "\u001b[1;31mAttributeError\u001b[0m: 'numpy.ndarray' object has no attribute 'head'"
          ]
        }
      ],
      "source": [
        "#counts_df = pd.DataFrame({'term': cvec.get_feature_names(), 'occurrences': occ})\n",
        "counts_df.sort_values(by='occurrences', ascending=False).head(20)"
      ]
    },
    {
      "cell_type": "code",
      "execution_count": 47,
      "metadata": {},
      "outputs": [],
      "source": [
        "merged = df.merge(categories)"
      ]
    },
    {
      "attachments": {},
      "cell_type": "markdown",
      "metadata": {},
      "source": [
        "Number of abstract x label"
      ]
    },
    {
      "cell_type": "code",
      "execution_count": 59,
      "metadata": {},
      "outputs": [
        {
          "data": {
            "text/plain": [
              "<Axes: xlabel='label', ylabel='Number of rows'>"
            ]
          },
          "execution_count": 59,
          "metadata": {},
          "output_type": "execute_result"
        },
        {
          "data": {
            "image/png": "[encoded data removed]",
            "text/plain": [
              "<Figure size 500x400 with 1 Axes>"
            ]
          },
          "metadata": {},
          "output_type": "display_data"
        }
      ],
      "source": [
        "df.groupby(['label']).size().reset_index(name='counts').plot.bar(x='label',\n",
        "                                                                 y='counts',\n",
        "                                                                 figsize=(5,4),\n",
        "                                                                 color=plt.cm.Paired(np.arange(len(df))),\n",
        "                                                                 legend=False,\n",
        "                                                                 ylabel = 'Number of abstracts',\n",
        "                                                                 rot=0\n",
        "                                                                 )"
      ]
    },
    {
      "cell_type": "code",
      "execution_count": 62,
      "metadata": {},
      "outputs": [],
      "source": [
        "from wordcloud import WordCloud\n",
        "\n",
        "wc_prova  = WordCloud().generate(' '.join(df['text']))\n",
        "plt.imshow(a)\n",
        "plt.axis(\"off\")\n",
        "plt.show()"
      ]
    },
    {
      "attachments": {},
      "cell_type": "markdown",
      "metadata": {},
      "source": [
        "Number of terms x label"
      ]
    },
    {
      "cell_type": "code",
      "execution_count": 92,
      "metadata": {},
      "outputs": [],
      "source": [
        "df_copy = df.copy()"
      ]
    },
    {
      "attachments": {},
      "cell_type": "markdown",
      "metadata": {},
      "source": [
        "Add column in each row with amount of word"
      ]
    },
    {
      "cell_type": "code",
      "execution_count": 94,
      "metadata": {},
      "outputs": [],
      "source": [
        "df_copy['word_counts'] = df_copy['text'].str.count(' ') + 1"
      ]
    },
    {
      "attachments": {},
      "cell_type": "markdown",
      "metadata": {},
      "source": [
        "Group by label and sum the amount of rows"
      ]
    },
    {
      "cell_type": "code",
      "execution_count": 95,
      "metadata": {},
      "outputs": [],
      "source": [
        "df_word_amount_label = df_copy.groupby(['label'])['word_counts'].sum().reset_index(name='counts')\n",
        "df_word_amount_label"
      ]
    },
    {
      "cell_type": "code",
      "execution_count": 130,
      "metadata": {},
      "outputs": [
        {
          "data": {
            "image/png": "[encoded data removed]",
            "text/plain": [
              "<Figure size 500x400 with 1 Axes>"
            ]
          },
          "metadata": {},
          "output_type": "display_data"
        }
      ],
      "source": [
        "fig = plt.figure(figsize = (5, 4))\n",
        "plt.bar(df_word_amount_label['label'],\n",
        "        df_word_amount_label['counts'], \n",
        "        color = plt.cm.Paired(np.arange(len(df_word_amount_label))))\n",
        "plt.ticklabel_format(style='plain')\n",
        "plt.show()"
      ]
    }
  ],
  "metadata": {
    "colab": {
      "authorship_tag": "ABX9TyMavMN4TJKrlMr2QHyr16if",
      "mount_file_id": "1jYoNwppMQupVKqR-xro4EFbRs6IMnxJe",
      "provenance": [],
      "toc_visible": true
    },
    "kernelspec": {
      "display_name": "Python 3",
      "name": "python3"
    },
    "language_info": {
      "codemirror_mode": {
        "name": "ipython",
        "version": 3
      },
      "file_extension": ".py",
      "mimetype": "text/x-python",
      "name": "python",
      "nbconvert_exporter": "python",
      "pygments_lexer": "ipython3",
      "version": "3.10.11"
    }
  },
  "nbformat": 4,
  "nbformat_minor": 0
}
