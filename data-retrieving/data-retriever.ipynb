{
 "cells": [
  {
   "attachments": {},
   "cell_type": "markdown",
   "metadata": {},
   "source": [
    "## Data Retrieving\n",
    "In this part of the project, we have fetched the data from **ArXiv API** and created the dataset on which apply our Deep Learning strategies and models."
   ]
  },
  {
   "cell_type": "code",
   "execution_count": null,
   "metadata": {},
   "outputs": [],
   "source": [
    "import pandas as pd\n",
    "import numpy as np\n",
    "import arxiv\n",
    "import requests\n",
    "from bs4 import BeautifulSoup"
   ]
  },
  {
   "attachments": {},
   "cell_type": "markdown",
   "metadata": {},
   "source": [
    "### ArXiv categories' names download\n",
    "Each ArXiv article is marked with a categories which will be our target value in the classification task.\\\n",
    "In the following section, we have collected all the **ArXiv categories** from the website using the web scraping technique."
   ]
  },
  {
   "cell_type": "code",
   "execution_count": null,
   "metadata": {},
   "outputs": [],
   "source": [
    "arxiv_categories_url = \"https://arxiv.org/category_taxonomy\"\n",
    "arxiv_categories_html = requests.get(arxiv_categories_url)\n",
    "webpage_html = BeautifulSoup(arxiv_categories_html.content, \"html.parser\")\n",
    "arxiv_categories_html = webpage_html.findAll(\"div\", {\"class\": \"column is-one-fifth\"})\n",
    "\n",
    "arxiv_categories = []\n",
    "\n",
    "for category in arxiv_categories_html:\n",
    "\n",
    "    category_title = category.find(\"h4\")\n",
    "\n",
    "    if (category_title != None):\n",
    "\n",
    "        category_string = category_title.text.strip()\n",
    "        category_string_splitted = category_string.split(' ',1)\n",
    "\n",
    "        arxiv_categories.append({ \n",
    "            'categoryId': category_string_splitted[0], \n",
    "            'categoryName': category_string_splitted[1].replace('(', '').replace(')','') \n",
    "        })"
   ]
  },
  {
   "attachments": {},
   "cell_type": "markdown",
   "metadata": {},
   "source": [
    "### ArXiv API\n",
    "Here we have actually retrieved the data from the ArXiv API using the related library.\\\n",
    "We have also created a **Pandas dataframe** with the fetched data and written it in a **CSV file**.\\\n",
    "For each **ArXiv article** we have the following information available:\n",
    "- f\n",
    "- d"
   ]
  },
  {
   "cell_type": "code",
   "execution_count": null,
   "metadata": {},
   "outputs": [],
   "source": [
    "arxiv_dataset = pd.DataFrame()"
   ]
  },
  {
   "cell_type": "code",
   "execution_count": null,
   "metadata": {},
   "outputs": [],
   "source": [
    "categoryNumber = 0\n",
    "\n",
    "for category in arxiv_categories:\n",
    "\n",
    "    categoryNumber = categoryNumber + 1\n",
    "\n",
    "    category_articles = arxiv.Search(\n",
    "\n",
    "        query = category['categoryId'],\n",
    "        max_results = 500,\n",
    "        sort_by = arxiv.SortCriterion.Relevance,\n",
    "        sort_order = arxiv.SortOrder.Descending\n",
    "\n",
    "    )\n",
    "\n",
    "    for category_article in category_articles.results():\n",
    "\n",
    "        article_dict = {\n",
    "\n",
    "            'id': category_article.entry_id,\n",
    "            'title': category_article.title,\n",
    "            'publishedDate': category_article.published,\n",
    "            'authorsList': category_article.authors,\n",
    "            'abstract': category_article.summary,\n",
    "            'categoryName': category['categoryName'],\n",
    "            'categoryId': category['categoryId'],\n",
    "            'categoryNumber': categoryNumber\n",
    "            \n",
    "        }\n",
    "\n",
    "        arxiv_dataset = arxiv_dataset.append(article_dict, ignore_index = True)"
   ]
  },
  {
   "cell_type": "code",
   "execution_count": null,
   "metadata": {},
   "outputs": [],
   "source": [
    "arxiv_dataset"
   ]
  }
 ],
 "metadata": {
  "kernelspec": {
   "display_name": "prova",
   "language": "python",
   "name": "python3"
  },
  "language_info": {
   "codemirror_mode": {
    "name": "ipython",
    "version": 3
   },
   "file_extension": ".py",
   "mimetype": "text/x-python",
   "name": "python",
   "nbconvert_exporter": "python",
   "pygments_lexer": "ipython3",
   "version": "3.9.12"
  },
  "orig_nbformat": 4
 },
 "nbformat": 4,
 "nbformat_minor": 2
}
