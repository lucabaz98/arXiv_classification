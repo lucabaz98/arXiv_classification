{
 "cells": [
  {
   "cell_type": "code",
   "execution_count": 79,
   "metadata": {},
   "outputs": [],
   "source": [
    "import arxiv\n",
    "import pandas as pd"
   ]
  },
  {
   "attachments": {},
   "cell_type": "markdown",
   "metadata": {},
   "source": [
    "# Categories names download"
   ]
  },
  {
   "cell_type": "code",
   "execution_count": 25,
   "metadata": {},
   "outputs": [],
   "source": [
    "import requests\n",
    "from bs4 import BeautifulSoup\n",
    "\n",
    "# connect to arxiv website to download the name of all the categories\n",
    "URL = \"https://arxiv.org/category_taxonomy\"\n",
    "page = requests.get(URL)\n",
    "\n",
    "soup = BeautifulSoup(page.content, \"html.parser\")\n",
    "categories = soup.findAll(\"div\", {\"class\": \"column is-one-fifth\"})"
   ]
  },
  {
   "cell_type": "code",
   "execution_count": null,
   "metadata": {},
   "outputs": [],
   "source": [
    "# TODO\n",
    "# save categories abbrevations and name to download easily the abstracts\n",
    "ls = []\n",
    "counter = 0\n",
    "for category in categories:\n",
    "    title_element = category.find(\"h4\")\n",
    "    if (title_element!=None):\n",
    "        str = title_element.text.strip()\n",
    "        str_split = str.split(' ',1)\n",
    "        print(str_split[0])\n",
    "        print(str_split[1])"
   ]
  },
  {
   "attachments": {},
   "cell_type": "markdown",
   "metadata": {},
   "source": [
    "# ARXIV APIs"
   ]
  },
  {
   "cell_type": "code",
   "execution_count": 17,
   "metadata": {},
   "outputs": [],
   "source": [
    "search = arxiv.Search(\n",
    "  query = \"cat:cs\",\n",
    "  max_results= 10,#float('inf'),\n",
    "  sort_by = arxiv.SortCriterion.Relevance,\n",
    "  sort_order = arxiv.SortOrder.Descending\n",
    ")\n",
    "for result in search.results():\n",
    "  print(result.categories)"
   ]
  },
  {
   "cell_type": "code",
   "execution_count": 12,
   "metadata": {},
   "outputs": [],
   "source": [
    "for result in search.results():\n",
    "  print(result.title)"
   ]
  }
 ],
 "metadata": {
  "kernelspec": {
   "display_name": "prova",
   "language": "python",
   "name": "python3"
  },
  "language_info": {
   "codemirror_mode": {
    "name": "ipython",
    "version": 3
   },
   "file_extension": ".py",
   "mimetype": "text/x-python",
   "name": "python",
   "nbconvert_exporter": "python",
   "pygments_lexer": "ipython3",
   "version": "3.10.10"
  },
  "orig_nbformat": 4
 },
 "nbformat": 4,
 "nbformat_minor": 2
}
