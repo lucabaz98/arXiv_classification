{
  "nbformat": 4,
  "nbformat_minor": 0,
  "metadata": {
    "colab": {
      "provenance": [],
      "toc_visible": true,
      "mount_file_id": "1jYoNwppMQupVKqR-xro4EFbRs6IMnxJe",
      "authorship_tag": "ABX9TyMavMN4TJKrlMr2QHyr16if"
    },
    "kernelspec": {
      "name": "python3",
      "display_name": "Python 3"
    },
    "language_info": {
      "name": "python"
    }
  },
  "cells": [
    {
      "cell_type": "code",
      "execution_count": null,
      "metadata": {
        "id": "Vj870QTS4uG8"
      },
      "outputs": [],
      "source": []
    }
  ]
}